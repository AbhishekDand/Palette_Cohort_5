{
 "cells": [
  {
   "attachments": {},
   "cell_type": "markdown",
   "metadata": {},
   "source": [
    "**Please follow the instructions. Do not add new cell! Write your code in designated areas.**"
   ]
  },
  {
   "cell_type": "code",
   "execution_count": 4,
   "metadata": {},
   "outputs": [
    {
     "name": "stdout",
     "output_type": "stream",
     "text": [
      "Assignment 1: Solutions by Abhishek\n",
      "Local Time: 2024-01-31 17:40:33\n",
      "Computer ID: PCPanda\n"
     ]
    }
   ],
   "source": [
    "import datetime\n",
    "import socket\n",
    "\n",
    "# Get local time\n",
    "local_time = datetime.datetime.now().strftime(\"%Y-%m-%d %H:%M:%S\")\n",
    "\n",
    "# Get computer ID or hostname\n",
    "computer_id = socket.gethostname()\n",
    "\n",
    "# Print output with local time and computer ID\n",
    "print('Assignment 1: Solutions by Abhishek') # Please change your name here\n",
    "print('Local Time:', local_time)\n",
    "print('Computer ID:', computer_id)"
   ]
  },
  {
   "cell_type": "markdown",
   "metadata": {},
   "source": [
    "**Note that you have to run this code in your local engine to pass the assignments**"
   ]
  },
  {
   "attachments": {},
   "cell_type": "markdown",
   "metadata": {},
   "source": [
    "# Assignment 1"
   ]
  },
  {
   "attachments": {},
   "cell_type": "markdown",
   "metadata": {},
   "source": [
    "## Exercise 1: String Manipulation"
   ]
  },
  {
   "attachments": {},
   "cell_type": "markdown",
   "metadata": {},
   "source": [
    "Develop a function that accepts a string parameter indicating a crop name and gives back the crop name in capital letters. Hints: str, upper(), def"
   ]
  },
  {
   "cell_type": "code",
   "execution_count": 5,
   "metadata": {},
   "outputs": [
    {
     "name": "stdout",
     "output_type": "stream",
     "text": [
      "Original Crop Name: potato\n",
      "Capitalized Crop Name: POTATO\n"
     ]
    }
   ],
   "source": [
    "## Your code here down\n",
    "def capitalize_crop_name(crop_name):\n",
    "    \"\"\"\n",
    "    Accepts a crop name and returns the crop name in capital letters.\n",
    "\n",
    "    Parameters:\n",
    "    - crop_name (str): The input crop name.\n",
    "\n",
    "    Returns:\n",
    "    - str: The crop name in capital letters.\n",
    "    \"\"\"\n",
    "    return crop_name.upper()\n",
    "# Example usage:\n",
    "crop_name_input = \"potato\"\n",
    "capitalized_crop_name = capitalize_crop_name(crop_name_input)\n",
    "print(f\"Original Crop Name: {crop_name_input}\")\n",
    "print(f\"Capitalized Crop Name: {capitalized_crop_name}\")\n",
    "## Your code here up"
   ]
  },
  {
   "attachments": {},
   "cell_type": "markdown",
   "metadata": {},
   "source": [
    "## Exercise 2: Crop Count"
   ]
  },
  {
   "attachments": {},
   "cell_type": "markdown",
   "metadata": {},
   "source": [
    "Create a function that receives a list of crop names (lentil, barley, canola, spring wheat, durum wheat, oats, alfalfa) and outputs the total number of crops. Hints: list, length, def."
   ]
  },
  {
   "cell_type": "code",
   "execution_count": 6,
   "metadata": {},
   "outputs": [
    {
     "name": "stdout",
     "output_type": "stream",
     "text": [
      "Total Number of Crops: 7\n"
     ]
    }
   ],
   "source": [
    "## Your code here down\n",
    "def count_crops(crop_list):\n",
    "    \"\"\"\n",
    "    Accepts a list of crop names and returns the total number of crops.\n",
    "\n",
    "    Parameters:\n",
    "    - crop_list (list): The input list containing crop names.\n",
    "\n",
    "    Returns:\n",
    "    - int: The total number of crops in the list.\n",
    "    \"\"\"\n",
    "    return len(crop_list)\n",
    "\n",
    "# Example usage:\n",
    "crop_names_list = [\"lentil\", \"barley\", \"canola\", \"spring wheat\", \"durum wheat\", \"oats\", \"alfalfa\"]\n",
    "total_crops = count_crops(crop_names_list)\n",
    "print(f\"Total Number of Crops: {total_crops}\")\n",
    "\n",
    "## Your code here up"
   ]
  },
  {
   "attachments": {},
   "cell_type": "markdown",
   "metadata": {},
   "source": [
    "## Exercise 3: Temperature Conversion"
   ]
  },
  {
   "attachments": {},
   "cell_type": "markdown",
   "metadata": {},
   "source": [
    "Create a function that takes a temperature in Celsius and converts it to Fahrenheit. Return the converted temperature. Keys:def, find converter."
   ]
  },
  {
   "cell_type": "code",
   "execution_count": 7,
   "metadata": {},
   "outputs": [
    {
     "name": "stdout",
     "output_type": "stream",
     "text": [
      "20 degrees Celsius is 68.0 degrees Fahrenheit.\n"
     ]
    }
   ],
   "source": [
    "## Your code here down\n",
    "def celsius_to_fahrenheit(celsius_temperature):\n",
    "    \"\"\"\n",
    "    Converts temperature from Celsius to Fahrenheit.\n",
    "\n",
    "    Parameters:\n",
    "    - celsius_temperature (float): Temperature in Celsius.\n",
    "\n",
    "    Returns:\n",
    "    - float: Converted temperature in Fahrenheit.\n",
    "    \"\"\"\n",
    "    return (celsius_temperature * 9/5) + 32\n",
    "\n",
    "# Example usage:\n",
    "celsius_temp = 20\n",
    "fahrenheit_temp = celsius_to_fahrenheit(celsius_temp)\n",
    "print(f\"{celsius_temp} degrees Celsius is {fahrenheit_temp} degrees Fahrenheit.\")\n",
    "\n",
    "## Your code here up"
   ]
  },
  {
   "attachments": {},
   "cell_type": "markdown",
   "metadata": {},
   "source": [
    "## Exercise 4: Crop Harvest"
   ]
  },
  {
   "attachments": {},
   "cell_type": "markdown",
   "metadata": {},
   "source": [
    "Create a function that takes the yield of canola crop (in bushels) and returns a string indicating whether it's a high, moderate, or low yield. Keys: strings, if-else, print()"
   ]
  },
  {
   "cell_type": "code",
   "execution_count": 8,
   "metadata": {},
   "outputs": [
    {
     "name": "stdout",
     "output_type": "stream",
     "text": [
      "Canola Yield Classification: Moderate Yield\n"
     ]
    }
   ],
   "source": [
    "## Your code here down\n",
    "def classify_canola_yield(bushels_yield):\n",
    "    \"\"\"\n",
    "    Classifies the canola crop yield as high, moderate, or low.\n",
    "\n",
    "    Parameters:\n",
    "    - bushels_yield (float): Yield of canola crop in bushels.\n",
    "\n",
    "    Returns:\n",
    "    - str: Classification of yield.\n",
    "    \"\"\"\n",
    "    if bushels_yield > 50:\n",
    "        return \"High Yield\"\n",
    "    elif bushels_yield > 30:\n",
    "        return \"Moderate Yield\"\n",
    "    else:\n",
    "        return \"Low Yield\"\n",
    "\n",
    "# Example usage:\n",
    "canola_yield = 45\n",
    "yield_classification = classify_canola_yield(canola_yield)\n",
    "print(f\"Canola Yield Classification: {yield_classification}\")\n",
    "\n",
    "## Your code here up"
   ]
  },
  {
   "attachments": {},
   "cell_type": "markdown",
   "metadata": {},
   "source": [
    "## Exercise 5: Crop Average"
   ]
  },
  {
   "attachments": {},
   "cell_type": "markdown",
   "metadata": {},
   "source": [
    "Create a function that takes a list of crop yields (spring wheat) and returns the average yield. Keys: list, average() or arithmetic average."
   ]
  },
  {
   "cell_type": "code",
   "execution_count": 9,
   "metadata": {},
   "outputs": [
    {
     "name": "stdout",
     "output_type": "stream",
     "text": [
      "Average Spring Wheat Yield: 51.6\n"
     ]
    }
   ],
   "source": [
    "## Your code here down\n",
    "def calculate_average_yield(yield_list):\n",
    "    \"\"\"\n",
    "    Calculates the average yield from a list of crop yields.\n",
    "\n",
    "    Parameters:\n",
    "    - yield_list (list): List of crop yields.\n",
    "\n",
    "    Returns:\n",
    "    - float: Average yield.\n",
    "    \"\"\"\n",
    "    return sum(yield_list) / len(yield_list)\n",
    "\n",
    "# Example usage:\n",
    "spring_wheat_yields = [50, 45, 55, 48, 60]\n",
    "average_yield = calculate_average_yield(spring_wheat_yields)\n",
    "print(f\"Average Spring Wheat Yield: {average_yield}\")\n",
    "\n",
    "## Your code here up"
   ]
  },
  {
   "attachments": {},
   "cell_type": "markdown",
   "metadata": {},
   "source": [
    "## Exercise 6: Crop Recommendation"
   ]
  },
  {
   "attachments": {},
   "cell_type": "markdown",
   "metadata": {},
   "source": [
    "Create a function that takes the type of soil (brown, dark brown, black) as a parameter and returns a recommended crop (lentil, canola, oats) for that soil type. Keys: dict, def"
   ]
  },
  {
   "cell_type": "code",
   "execution_count": 10,
   "metadata": {},
   "outputs": [
    {
     "name": "stdout",
     "output_type": "stream",
     "text": [
      "Recommended Crop for dark brown soil: canola\n"
     ]
    }
   ],
   "source": [
    "## Your code here down\n",
    "def recommend_crop_for_soil(soil_type):\n",
    "    \"\"\"\n",
    "    Recommends a crop based on the type of soil.\n",
    "\n",
    "    Parameters:\n",
    "    - soil_type (str): Type of soil (brown, dark brown, black).\n",
    "\n",
    "    Returns:\n",
    "    - str: Recommended crop.\n",
    "    \"\"\"\n",
    "    soil_crop_mapping = {\"brown\": \"lentil\", \"dark brown\": \"canola\", \"black\": \"oats\"}\n",
    "    return soil_crop_mapping.get(soil_type, \"No recommendation for this soil type\")\n",
    "\n",
    "# Example usage:\n",
    "soil_type = \"dark brown\"\n",
    "recommended_crop = recommend_crop_for_soil(soil_type)\n",
    "print(f\"Recommended Crop for {soil_type} soil: {recommended_crop}\")\n",
    "\n",
    "## Your code here up"
   ]
  },
  {
   "attachments": {},
   "cell_type": "markdown",
   "metadata": {},
   "source": [
    "## Exercise 7: Crop Rotation"
   ]
  },
  {
   "attachments": {},
   "cell_type": "markdown",
   "metadata": {},
   "source": [
    "Create a function that takes a list of crop names (lentil, barly, canola, spring wheat, durum wheat, oats) and rotates the crops by moving the last crop to the beginning of the list. Keys: list and list index, def."
   ]
  },
  {
   "cell_type": "code",
   "execution_count": 11,
   "metadata": {},
   "outputs": [
    {
     "name": "stdout",
     "output_type": "stream",
     "text": [
      "Rotated Crop List: ['oats', 'lentil', 'barley', 'canola', 'spring wheat', 'durum wheat']\n"
     ]
    }
   ],
   "source": [
    "## Your code here down\n",
    "\n",
    "def rotate_crops(crop_list):\n",
    "    \"\"\"\n",
    "    Rotates crops in a list by moving the last crop to the beginning.\n",
    "\n",
    "    Parameters:\n",
    "    - crop_list (list): List of crop names.\n",
    "\n",
    "    Returns:\n",
    "    - list: Rotated list of crop names.\n",
    "    \"\"\"\n",
    "    if crop_list:\n",
    "        last_crop = crop_list.pop()\n",
    "        crop_list.insert(0, last_crop)\n",
    "    return crop_list\n",
    "\n",
    "# Example usage:\n",
    "crop_names = [\"lentil\", \"barley\", \"canola\", \"spring wheat\", \"durum wheat\", \"oats\"]\n",
    "rotated_crops = rotate_crops(crop_names)\n",
    "print(f\"Rotated Crop List: {rotated_crops}\")\n",
    "## Your code here up"
   ]
  },
  {
   "attachments": {},
   "cell_type": "markdown",
   "metadata": {},
   "source": [
    "# Exercise 8: Rainfall Analysis"
   ]
  },
  {
   "attachments": {},
   "cell_type": "markdown",
   "metadata": {},
   "source": [
    "Create a function that takes a list of rainfall measurements (daily mm in a week) and returns the maximum and minimum rainfall values. Keys: min(), max(), lists, def"
   ]
  },
  {
   "cell_type": "code",
   "execution_count": 12,
   "metadata": {},
   "outputs": [
    {
     "name": "stdout",
     "output_type": "stream",
     "text": [
      "Minimum Rainfall: 5 mm, Maximum Rainfall: 20 mm\n"
     ]
    }
   ],
   "source": [
    "## Your code here down\n",
    "def analyze_rainfall(rainfall_measurements):\n",
    "    \"\"\"\n",
    "    Analyzes a list of rainfall measurements and returns the maximum and minimum values.\n",
    "\n",
    "    Parameters:\n",
    "    - rainfall_measurements (list): List of daily rainfall measurements.\n",
    "\n",
    "    Returns:\n",
    "    - tuple: (min_rainfall, max_rainfall)\n",
    "    \"\"\"\n",
    "    min_rainfall = min(rainfall_measurements)\n",
    "    max_rainfall = max(rainfall_measurements)\n",
    "    return min_rainfall, max_rainfall\n",
    "\n",
    "# Example usage:\n",
    "rainfall_data = [10, 5, 15, 8, 20, 12, 7]\n",
    "min_rain, max_rain = analyze_rainfall(rainfall_data)\n",
    "print(f\"Minimum Rainfall: {min_rain} mm, Maximum Rainfall: {max_rain} mm\")\n",
    "\n",
    "## Your code here up"
   ]
  },
  {
   "attachments": {},
   "cell_type": "markdown",
   "metadata": {},
   "source": [
    "## Exercise 9: Pest Control"
   ]
  },
  {
   "attachments": {},
   "cell_type": "markdown",
   "metadata": {},
   "source": [
    "Create a function that takes the count of pests detected in a field and returns a recommendation for pest control based on the count. Please search for pests and pest control measures. Keys: if-else statement, def"
   ]
  },
  {
   "cell_type": "code",
   "execution_count": 13,
   "metadata": {},
   "outputs": [
    {
     "name": "stdout",
     "output_type": "stream",
     "text": [
      "Pest Control Recommendation: Moderate infestation. Consider pest control measures.\n"
     ]
    }
   ],
   "source": [
    "## Your code here down\n",
    "def pest_control_recommendation(pest_count):\n",
    "    \"\"\"\n",
    "    Provides a recommendation for pest control based on the count of pests detected.\n",
    "\n",
    "    Parameters:\n",
    "    - pest_count (int): Count of pests detected in a field.\n",
    "\n",
    "    Returns:\n",
    "    - str: Pest control recommendation.\n",
    "    \"\"\"\n",
    "    if pest_count > 100:\n",
    "        return \"Severe infestation. Immediate action required.\"\n",
    "    elif pest_count > 50:\n",
    "        return \"Moderate infestation. Consider pest control measures.\"\n",
    "    else:\n",
    "        return \"Low pest count. Regular monitoring recommended.\"\n",
    "\n",
    "# Example usage:\n",
    "pest_count = 75\n",
    "control_recommendation = pest_control_recommendation(pest_count)\n",
    "print(f\"Pest Control Recommendation: {control_recommendation}\")\n",
    "\n",
    "## Your code here up"
   ]
  },
  {
   "attachments": {},
   "cell_type": "markdown",
   "metadata": {},
   "source": [
    "## Exercise 10: Weed Control"
   ]
  },
  {
   "attachments": {},
   "cell_type": "markdown",
   "metadata": {},
   "source": [
    "Create a function that takes a list of weed names (search online) and suggests appropriate herbicides for weed control. Keys: For Loops and dictionary."
   ]
  },
  {
   "cell_type": "code",
   "execution_count": 14,
   "metadata": {},
   "outputs": [
    {
     "name": "stdout",
     "output_type": "stream",
     "text": [
      "Herbicide Recommendations: ['Glyphosate', '2,4-D', 'No recommendation']\n"
     ]
    }
   ],
   "source": [
    "## Your code here down\n",
    "def weed_control_recommendation(weed_list):\n",
    "    \"\"\"\n",
    "    Suggests appropriate herbicides for weed control based on a list of weed names.\n",
    "\n",
    "    Parameters:\n",
    "    - weed_list (list): List of weed names.\n",
    "\n",
    "    Returns:\n",
    "    - str: Herbicide recommendation.\n",
    "    \"\"\"\n",
    "    herbicides = {\n",
    "        \"dandelion\": \"Glyphosate\",\n",
    "        \"thistle\": \"2,4-D\",\n",
    "        \"crabgrass\": \"Atrazine\",\n",
    "        # Add more weed-herbicide mappings as needed\n",
    "    }\n",
    "    recommendations = [herbicides.get(weed, \"No recommendation\") for weed in weed_list]\n",
    "    return recommendations\n",
    "\n",
    "# Example usage:\n",
    "weed_names = [\"dandelion\", \"thistle\", \"clover\"]\n",
    "herbicide_recommendations = weed_control_recommendation(weed_names)\n",
    "print(f\"Herbicide Recommendations: {herbicide_recommendations}\")\n",
    "\n",
    "## Your code here up"
   ]
  },
  {
   "cell_type": "code",
   "execution_count": null,
   "metadata": {},
   "outputs": [],
   "source": []
  }
 ],
 "metadata": {
  "kernelspec": {
   "display_name": "Python 3",
   "language": "python",
   "name": "python3"
  },
  "language_info": {
   "codemirror_mode": {
    "name": "ipython",
    "version": 3
   },
   "file_extension": ".py",
   "mimetype": "text/x-python",
   "name": "python",
   "nbconvert_exporter": "python",
   "pygments_lexer": "ipython3",
   "version": "3.8.8"
  },
  "orig_nbformat": 4
 },
 "nbformat": 4,
 "nbformat_minor": 2
}
