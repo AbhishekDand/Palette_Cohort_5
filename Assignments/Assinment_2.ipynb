{
 "cells": [
  {
   "attachments": {},
   "cell_type": "markdown",
   "metadata": {},
   "source": [
    "# Assignment 2"
   ]
  },
  {
   "attachments": {},
   "cell_type": "markdown",
   "metadata": {},
   "source": [
    "**Please follow the instructions. Do not add new cell! Write your code in designated areas.**"
   ]
  },
  {
   "cell_type": "code",
   "execution_count": 1,
   "metadata": {},
   "outputs": [
    {
     "name": "stdout",
     "output_type": "stream",
     "text": [
      "Assignment 1 & 2: Solutions by Abhishek Dand\n",
      "Local Time: 2024-02-05 20:17:24\n",
      "Computer ID: PCPanda\n"
     ]
    }
   ],
   "source": [
    "import datetime\n",
    "import socket\n",
    "\n",
    "# Get local time\n",
    "local_time = datetime.datetime.now().strftime(\"%Y-%m-%d %H:%M:%S\")\n",
    "\n",
    "# Get computer ID or hostname\n",
    "computer_id = socket.gethostname()\n",
    "\n",
    "# Print output with local time and computer ID\n",
    "print('Assignment 1 & 2: Solutions by Abhishek Dand') # Please change your name here\n",
    "print('Local Time:', local_time)\n",
    "print('Computer ID:', computer_id)"
   ]
  },
  {
   "attachments": {},
   "cell_type": "markdown",
   "metadata": {},
   "source": [
    "## NumPy"
   ]
  },
  {
   "attachments": {},
   "cell_type": "markdown",
   "metadata": {},
   "source": [
    "1. Create a 2D numpy array of size 4x5 with random integers between 1 and 10. Find the maximum value of the entire array. \n"
   ]
  },
  {
   "cell_type": "code",
   "execution_count": 2,
   "metadata": {},
   "outputs": [
    {
     "name": "stdout",
     "output_type": "stream",
     "text": [
      "2D Array:\n",
      "[[ 5  2  5  1  7]\n",
      " [10  6  6  8  9]\n",
      " [ 7  2  4  2  8]\n",
      " [ 5  7  6  6  6]]\n",
      "\n",
      "Maximum value in the array: 10\n"
     ]
    }
   ],
   "source": [
    "## Your code here down\n",
    "import numpy as np\n",
    "\n",
    "# Create a 2D array of size 4x5 with random integers between 1 and 10\n",
    "array_2d = np.random.randint(1, 11, size=(4, 5))\n",
    "\n",
    "# Find the maximum value of the entire array\n",
    "max_value = np.max(array_2d)\n",
    "\n",
    "print(\"2D Array:\")\n",
    "print(array_2d)\n",
    "print(\"\\nMaximum value in the array:\", max_value)\n",
    "\n",
    "# print(mean)\n",
    "#print(std) and so on\n",
    "## Your code here up"
   ]
  },
  {
   "attachments": {},
   "cell_type": "markdown",
   "metadata": {},
   "source": [
    "2. Create a 1D numpy array of size 20 with random floats between 0 and 1. Reshape the array into a 4x5 matrix. Compute the mean of each row."
   ]
  },
  {
   "cell_type": "code",
   "execution_count": null,
   "metadata": {},
   "outputs": [],
   "source": []
  },
  {
   "cell_type": "code",
   "execution_count": 3,
   "metadata": {},
   "outputs": [
    {
     "name": "stdout",
     "output_type": "stream",
     "text": [
      "1D Array:\n",
      "[0.96904603 0.24604044 0.49339501 0.07449888 0.44149989 0.48139491\n",
      " 0.80135692 0.56798597 0.03341072 0.62452372 0.95524613 0.78282544\n",
      " 0.30304679 0.26761938 0.32339684 0.15339553 0.67238212 0.40553238\n",
      " 0.01726487 0.46159497]\n",
      "\n",
      "Reshaped 2D Array:\n",
      "[[0.96904603 0.24604044 0.49339501 0.07449888 0.44149989]\n",
      " [0.48139491 0.80135692 0.56798597 0.03341072 0.62452372]\n",
      " [0.95524613 0.78282544 0.30304679 0.26761938 0.32339684]\n",
      " [0.15339553 0.67238212 0.40553238 0.01726487 0.46159497]]\n",
      "\n",
      "Mean of each row:\n",
      "[0.44489605 0.50173445 0.52642692 0.34203397]\n"
     ]
    }
   ],
   "source": [
    "## Your code here down\n",
    "import numpy as np\n",
    "\n",
    "# Create a 1D array of size 20 with random floats between 0 and 1\n",
    "array_1d = np.random.rand(20)\n",
    "\n",
    "# Reshape the array into a 4x5 matrix\n",
    "array_2d = array_1d.reshape((4, 5))\n",
    "\n",
    "# Compute the mean of each row\n",
    "row_means = np.mean(array_2d, axis=1)\n",
    "\n",
    "print(\"1D Array:\")\n",
    "print(array_1d)\n",
    "print(\"\\nReshaped 2D Array:\")\n",
    "print(array_2d)\n",
    "print(\"\\nMean of each row:\")\n",
    "print(row_means)\n",
    "\n",
    "\n",
    "## Your code here up"
   ]
  },
  {
   "attachments": {},
   "cell_type": "markdown",
   "metadata": {},
   "source": [
    "3. Create a 2D numpy array of size 5x5 with random integers between 1 and 100. Compute standard deviation of each column."
   ]
  },
  {
   "cell_type": "code",
   "execution_count": 4,
   "metadata": {},
   "outputs": [
    {
     "name": "stdout",
     "output_type": "stream",
     "text": [
      "2D Array:\n",
      "[[88 95 67 21 48]\n",
      " [58 67 69 84 49]\n",
      " [48 34 87 57 14]\n",
      " [99 91 97 26 88]\n",
      " [47  6 24 55 67]]\n",
      "\n",
      "Standard Deviation of Each Column:\n",
      "[21.45693361 34.10923629 25.04715553 22.96606192 24.42457779]\n"
     ]
    }
   ],
   "source": [
    "## Your code here down\n",
    "# Create a 2D array of size 5x5 with random integers between 1 and 100\n",
    "array_2d = np.random.randint(1, 101, size=(5, 5))\n",
    "\n",
    "# Compute the standard deviation of each column\n",
    "column_std_dev = np.std(array_2d, axis=0)\n",
    "\n",
    "print(\"2D Array:\")\n",
    "print(array_2d)\n",
    "print(\"\\nStandard Deviation of Each Column:\")\n",
    "print(column_std_dev)\n",
    "\n",
    "## Your code here up"
   ]
  },
  {
   "attachments": {},
   "cell_type": "markdown",
   "metadata": {},
   "source": [
    "4. Create a 1D numpy array of size 15 with random floats between -10 and 10. Replace all negative values with their absolute values."
   ]
  },
  {
   "cell_type": "code",
   "execution_count": 5,
   "metadata": {},
   "outputs": [
    {
     "name": "stdout",
     "output_type": "stream",
     "text": [
      "Original 1D Array:\n",
      "[ 2.52564851 -5.42530512 -3.56722206 -0.56987345  9.25776119  9.17500819\n",
      " -9.56213005  3.59847406  9.34474913 -7.84163384  9.86747602 -5.52669103\n",
      " -1.42131193 -1.19355466 -4.03483438]\n",
      "\n",
      "Array with Negative Values Replaced by Absolute Values:\n",
      "[2.52564851 5.42530512 3.56722206 0.56987345 9.25776119 9.17500819\n",
      " 9.56213005 3.59847406 9.34474913 7.84163384 9.86747602 5.52669103\n",
      " 1.42131193 1.19355466 4.03483438]\n"
     ]
    }
   ],
   "source": [
    "## Your code here down\n",
    "# Create a 1D array of size 15 with random floats between -10 and 10\n",
    "array_1d = np.random.uniform(-10, 10, size=15)\n",
    "\n",
    "# Replace negative values with their absolute values\n",
    "array_1d_abs = np.abs(array_1d)\n",
    "\n",
    "print(\"Original 1D Array:\")\n",
    "print(array_1d)\n",
    "print(\"\\nArray with Negative Values Replaced by Absolute Values:\")\n",
    "print(array_1d_abs)\n",
    "\n",
    "## Your code here up"
   ]
  },
  {
   "attachments": {},
   "cell_type": "markdown",
   "metadata": {},
   "source": [
    "5. Create a 2D numpy array of size 3x4 with random integers between 1 and 100. Calculate the sum of all elements in the array."
   ]
  },
  {
   "cell_type": "code",
   "execution_count": 6,
   "metadata": {},
   "outputs": [
    {
     "name": "stdout",
     "output_type": "stream",
     "text": [
      "2D Array:\n",
      "[[81 97 65 30]\n",
      " [90  3 74 79]\n",
      " [11 87 62 48]]\n",
      "\n",
      "Sum of All Elements in the Array: 727\n"
     ]
    }
   ],
   "source": [
    "## Your code here down\n",
    "# Create a 2D array of size 3x4 with random integers between 1 and 100\n",
    "array_2d = np.random.randint(1, 101, size=(3, 4))\n",
    "\n",
    "# Calculate the sum of all elements in the array\n",
    "total_sum = np.sum(array_2d)\n",
    "\n",
    "print(\"2D Array:\")\n",
    "print(array_2d)\n",
    "print(\"\\nSum of All Elements in the Array:\", total_sum)\n",
    "\n",
    "## Your code here up"
   ]
  },
  {
   "attachments": {},
   "cell_type": "markdown",
   "metadata": {},
   "source": [
    "7. Create a 2D numpy array of size 4x6 with random floats between 0 and 1. Normalize each column by subtracting the column mean and dividing by the column standard deviation."
   ]
  },
  {
   "cell_type": "code",
   "execution_count": 3,
   "metadata": {},
   "outputs": [
    {
     "name": "stdout",
     "output_type": "stream",
     "text": [
      "Original Array:\n",
      "[[0.28044569 0.10787914 0.93256402 0.03813998 0.9582473  0.32885427]\n",
      " [0.50285097 0.18885451 0.65885862 0.65288331 0.37417932 0.88792875]\n",
      " [0.56536335 0.46910012 0.72684074 0.28189971 0.24254919 0.84131592]\n",
      " [0.81027766 0.65882697 0.98664334 0.74740123 0.64694074 0.34916643]]\n",
      "\n",
      "Normalized Array:\n",
      "[[-1.3740272  -1.12741677  0.77693684 -1.37310253  1.46732506 -1.03622335]\n",
      " [-0.19545339 -0.75972396 -1.22284802  0.78055185 -0.66049354  1.08614487]\n",
      " [ 0.13581327  0.51281472 -0.72614754 -0.5191295  -1.14003537  0.90919244]\n",
      " [ 1.43366732  1.37432601  1.17205872  1.11168018  0.33320385 -0.95911396]]\n"
     ]
    }
   ],
   "source": [
    "## Your code here down\n",
    "\n",
    "# Create a 2D numpy array of size 4x6 with random floats between 0 and 1\n",
    "random_array = np.random.rand(4, 6)\n",
    "\n",
    "# Normalize each column by subtracting the column mean and dividing by the column standard deviation\n",
    "normalized_array = (random_array - np.mean(random_array, axis=0)) / np.std(random_array, axis=0)\n",
    "\n",
    "print(\"Original Array:\")\n",
    "print(random_array)\n",
    "print(\"\\nNormalized Array:\")\n",
    "print(normalized_array)\n",
    "## Your code here up"
   ]
  },
  {
   "attachments": {},
   "cell_type": "markdown",
   "metadata": {},
   "source": [
    "8. Create a 2D numpy array of size 10x10 with random integers between 1 and 100. Replace all values greater than 50 with 1 and all other values with 0."
   ]
  },
  {
   "cell_type": "code",
   "execution_count": 4,
   "metadata": {},
   "outputs": [
    {
     "name": "stdout",
     "output_type": "stream",
     "text": [
      "Original Array:\n",
      "[[93 11 17 54 34 11 90 58 78 84]\n",
      " [47 75 88 71 21 97 24 96 10 98]\n",
      " [76 21 74 50 16 15 76 83 48 55]\n",
      " [12 37 83 47  3 49 41 68 66  9]\n",
      " [70 93 15 41 65 20  2 80 40 25]\n",
      " [97 18 83 17 20 91 10 75 43 43]\n",
      " [72 31 36 66 88 96 77 45 15 35]\n",
      " [53 15  9 89 93 73 43 25 16 50]\n",
      " [85 38  6 55 66 95 82 21 65 96]\n",
      " [34 58 42  1 78 27 73 25 61  2]]\n",
      "\n",
      "Binary Array:\n",
      "[[1 0 0 1 0 0 1 1 1 1]\n",
      " [0 1 1 1 0 1 0 1 0 1]\n",
      " [1 0 1 0 0 0 1 1 0 1]\n",
      " [0 0 1 0 0 0 0 1 1 0]\n",
      " [1 1 0 0 1 0 0 1 0 0]\n",
      " [1 0 1 0 0 1 0 1 0 0]\n",
      " [1 0 0 1 1 1 1 0 0 0]\n",
      " [1 0 0 1 1 1 0 0 0 0]\n",
      " [1 0 0 1 1 1 1 0 1 1]\n",
      " [0 1 0 0 1 0 1 0 1 0]]\n"
     ]
    }
   ],
   "source": [
    "## Your code here down\n",
    "\n",
    "# Create a 2D numpy array of size 10x10 with random integers between 1 and 100\n",
    "random_int_array = np.random.randint(1, 101, size=(10, 10))\n",
    "\n",
    "# Replace values greater than 50 with 1 and all other values with 0\n",
    "binary_array = np.where(random_int_array > 50, 1, 0)\n",
    "\n",
    "print(\"Original Array:\")\n",
    "print(random_int_array)\n",
    "print(\"\\nBinary Array:\")\n",
    "print(binary_array)\n",
    "## Your code here up"
   ]
  },
  {
   "attachments": {},
   "cell_type": "markdown",
   "metadata": {},
   "source": [
    "9. Create a 1D numpy array of size 50 with random floats between 0 and 1. Find the number of elements greater than 0.5."
   ]
  },
  {
   "cell_type": "code",
   "execution_count": 5,
   "metadata": {},
   "outputs": [
    {
     "name": "stdout",
     "output_type": "stream",
     "text": [
      "Original Array:\n",
      "[0.96823099 0.98099893 0.45630246 0.50399293 0.49285035 0.88944115\n",
      " 0.35850174 0.82134996 0.25109989 0.88027163 0.19388251 0.30618545\n",
      " 0.852171   0.87119468 0.63238771 0.8136911  0.06295703 0.55930124\n",
      " 0.15706422 0.846561   0.6442718  0.61280815 0.61471666 0.00600467\n",
      " 0.20809366 0.3117668  0.75170861 0.39420103 0.26196556 0.07445517\n",
      " 0.35326937 0.75729727 0.83088344 0.40165825 0.94349958 0.06208021\n",
      " 0.1028618  0.90289    0.13128219 0.10283776 0.80931245 0.67585428\n",
      " 0.96554499 0.37845844 0.39741754 0.84343246 0.04361391 0.0600977\n",
      " 0.12175863 0.88075311]\n",
      "\n",
      "Number of elements greater than 0.5: 25\n"
     ]
    }
   ],
   "source": [
    "## Your code here down\n",
    "\n",
    "# Create a 1D numpy array of size 50 with random floats between 0 and 1\n",
    "random_float_array = np.random.rand(50)\n",
    "\n",
    "# Find the number of elements greater than 0.5\n",
    "count_greater_than_0_5 = np.sum(random_float_array > 0.5)\n",
    "\n",
    "print(\"Original Array:\")\n",
    "print(random_float_array)\n",
    "print(\"\\nNumber of elements greater than 0.5:\", count_greater_than_0_5)\n",
    "## Your code here up"
   ]
  },
  {
   "attachments": {},
   "cell_type": "markdown",
   "metadata": {},
   "source": [
    "10. Create a 2D numpy array of size 5x5 with random floats between -1 and 1. Find the absolute difference between the maximum and minimum values in each row."
   ]
  },
  {
   "cell_type": "code",
   "execution_count": 6,
   "metadata": {},
   "outputs": [
    {
     "name": "stdout",
     "output_type": "stream",
     "text": [
      "Original Array:\n",
      "[[ 0.56224814 -0.19117237 -0.70122037 -0.47914673  0.9819572 ]\n",
      " [ 0.42149917 -0.80045182  0.89989734  0.98182747 -0.48437408]\n",
      " [-0.32373597  0.88600456  0.61858594  0.68610774  0.89934717]\n",
      " [ 0.97794955 -0.05286983 -0.66093182  0.47707179  0.9163604 ]\n",
      " [-0.15158917 -0.74023457  0.62244204  0.97497098  0.62542815]]\n",
      "\n",
      "Absolute Difference between Max and Min in each row:\n",
      "[1.68317757 1.78227929 1.22308314 1.63888136 1.71520555]\n"
     ]
    }
   ],
   "source": [
    "## Your code here down\n",
    "# Create a 2D numpy array of size 5x5 with random floats between -1 and 1\n",
    "random_float_array = np.random.uniform(-1, 1, size=(5, 5))\n",
    "\n",
    "# Find the absolute difference between the maximum and minimum values in each row\n",
    "row_abs_diff = np.abs(np.max(random_float_array, axis=1) - np.min(random_float_array, axis=1))\n",
    "\n",
    "print(\"Original Array:\")\n",
    "print(random_float_array)\n",
    "print(\"\\nAbsolute Difference between Max and Min in each row:\")\n",
    "print(row_abs_diff)\n",
    "\n",
    "## Your code here up"
   ]
  },
  {
   "attachments": {},
   "cell_type": "markdown",
   "metadata": {},
   "source": [
    "## Pandas"
   ]
  },
  {
   "attachments": {},
   "cell_type": "markdown",
   "metadata": {},
   "source": [
    "Please refer the dataframe (farm data) we have created in the training. Please copy that cell and paste it below before starting this part. "
   ]
  },
  {
   "cell_type": "code",
   "execution_count": 7,
   "metadata": {},
   "outputs": [],
   "source": [
    "import random\n",
    "import pandas as pd\n",
    "\n",
    "# Define the range for longitude and latitude\n",
    "lon_range = (-105, -100)\n",
    "lat_range = (50, 52)\n",
    "\n",
    "# Define the list of soil types\n",
    "soil_types = ['black', 'gray', 'dark brown', 'brown', None]\n",
    "\n",
    "# Create an empty list to store the farms\n",
    "farms = []\n",
    "\n",
    "# Generate 40 farms\n",
    "for i in range(1000):\n",
    "    farm = {\n",
    "        'farm_name': f'Farm {i+1}', # f is formated string\n",
    "        'farm_lon': round(random.uniform(lon_range[0], lon_range[1]), 2), # random lon with 2 decimal points\n",
    "        'farm_lat': round(random.uniform(lat_range[0], lat_range[1]), 2), # rantom lat with 2 decimal points\n",
    "        'temperature': round(random.uniform(18, 33), 1), #random temp with 1 decimal points\n",
    "        'precipitation': round(random.uniform(20, 90), 1), # random prec with 1 decimal points\n",
    "        'soil_type': random.choice(soil_types) # random soil types from above list\n",
    "    }\n",
    "    farms.append(farm)"
   ]
  },
  {
   "cell_type": "code",
   "execution_count": 8,
   "metadata": {},
   "outputs": [],
   "source": [
    "df = pd.DataFrame(farms)"
   ]
  },
  {
   "attachments": {},
   "cell_type": "markdown",
   "metadata": {},
   "source": [
    "1. Select the rows where the temperature is above 20 degrees Celsius."
   ]
  },
  {
   "cell_type": "code",
   "execution_count": 10,
   "metadata": {},
   "outputs": [
    {
     "data": {
      "text/html": [
       "<div>\n",
       "<style scoped>\n",
       "    .dataframe tbody tr th:only-of-type {\n",
       "        vertical-align: middle;\n",
       "    }\n",
       "\n",
       "    .dataframe tbody tr th {\n",
       "        vertical-align: top;\n",
       "    }\n",
       "\n",
       "    .dataframe thead th {\n",
       "        text-align: right;\n",
       "    }\n",
       "</style>\n",
       "<table border=\"1\" class=\"dataframe\">\n",
       "  <thead>\n",
       "    <tr style=\"text-align: right;\">\n",
       "      <th></th>\n",
       "      <th>farm_name</th>\n",
       "      <th>farm_lon</th>\n",
       "      <th>farm_lat</th>\n",
       "      <th>temperature</th>\n",
       "      <th>precipitation</th>\n",
       "      <th>soil_type</th>\n",
       "    </tr>\n",
       "  </thead>\n",
       "  <tbody>\n",
       "    <tr>\n",
       "      <th>0</th>\n",
       "      <td>Farm 1</td>\n",
       "      <td>-104.48</td>\n",
       "      <td>51.39</td>\n",
       "      <td>30.9</td>\n",
       "      <td>89.6</td>\n",
       "      <td>gray</td>\n",
       "    </tr>\n",
       "    <tr>\n",
       "      <th>1</th>\n",
       "      <td>Farm 2</td>\n",
       "      <td>-100.32</td>\n",
       "      <td>51.58</td>\n",
       "      <td>29.8</td>\n",
       "      <td>50.8</td>\n",
       "      <td>black</td>\n",
       "    </tr>\n",
       "    <tr>\n",
       "      <th>2</th>\n",
       "      <td>Farm 3</td>\n",
       "      <td>-102.69</td>\n",
       "      <td>51.29</td>\n",
       "      <td>30.1</td>\n",
       "      <td>44.1</td>\n",
       "      <td>brown</td>\n",
       "    </tr>\n",
       "    <tr>\n",
       "      <th>3</th>\n",
       "      <td>Farm 4</td>\n",
       "      <td>-103.47</td>\n",
       "      <td>50.63</td>\n",
       "      <td>21.4</td>\n",
       "      <td>60.9</td>\n",
       "      <td>black</td>\n",
       "    </tr>\n",
       "    <tr>\n",
       "      <th>4</th>\n",
       "      <td>Farm 5</td>\n",
       "      <td>-103.39</td>\n",
       "      <td>51.63</td>\n",
       "      <td>26.2</td>\n",
       "      <td>84.5</td>\n",
       "      <td>dark brown</td>\n",
       "    </tr>\n",
       "    <tr>\n",
       "      <th>...</th>\n",
       "      <td>...</td>\n",
       "      <td>...</td>\n",
       "      <td>...</td>\n",
       "      <td>...</td>\n",
       "      <td>...</td>\n",
       "      <td>...</td>\n",
       "    </tr>\n",
       "    <tr>\n",
       "      <th>995</th>\n",
       "      <td>Farm 996</td>\n",
       "      <td>-103.36</td>\n",
       "      <td>50.68</td>\n",
       "      <td>20.4</td>\n",
       "      <td>66.6</td>\n",
       "      <td>black</td>\n",
       "    </tr>\n",
       "    <tr>\n",
       "      <th>996</th>\n",
       "      <td>Farm 997</td>\n",
       "      <td>-104.46</td>\n",
       "      <td>50.75</td>\n",
       "      <td>23.1</td>\n",
       "      <td>75.7</td>\n",
       "      <td>brown</td>\n",
       "    </tr>\n",
       "    <tr>\n",
       "      <th>997</th>\n",
       "      <td>Farm 998</td>\n",
       "      <td>-100.31</td>\n",
       "      <td>50.60</td>\n",
       "      <td>30.5</td>\n",
       "      <td>62.5</td>\n",
       "      <td>gray</td>\n",
       "    </tr>\n",
       "    <tr>\n",
       "      <th>998</th>\n",
       "      <td>Farm 999</td>\n",
       "      <td>-102.87</td>\n",
       "      <td>50.10</td>\n",
       "      <td>26.2</td>\n",
       "      <td>50.2</td>\n",
       "      <td>None</td>\n",
       "    </tr>\n",
       "    <tr>\n",
       "      <th>999</th>\n",
       "      <td>Farm 1000</td>\n",
       "      <td>-103.93</td>\n",
       "      <td>51.00</td>\n",
       "      <td>20.6</td>\n",
       "      <td>46.9</td>\n",
       "      <td>black</td>\n",
       "    </tr>\n",
       "  </tbody>\n",
       "</table>\n",
       "<p>872 rows × 6 columns</p>\n",
       "</div>"
      ],
      "text/plain": [
       "     farm_name  farm_lon  farm_lat  temperature  precipitation   soil_type\n",
       "0       Farm 1   -104.48     51.39         30.9           89.6        gray\n",
       "1       Farm 2   -100.32     51.58         29.8           50.8       black\n",
       "2       Farm 3   -102.69     51.29         30.1           44.1       brown\n",
       "3       Farm 4   -103.47     50.63         21.4           60.9       black\n",
       "4       Farm 5   -103.39     51.63         26.2           84.5  dark brown\n",
       "..         ...       ...       ...          ...            ...         ...\n",
       "995   Farm 996   -103.36     50.68         20.4           66.6       black\n",
       "996   Farm 997   -104.46     50.75         23.1           75.7       brown\n",
       "997   Farm 998   -100.31     50.60         30.5           62.5        gray\n",
       "998   Farm 999   -102.87     50.10         26.2           50.2        None\n",
       "999  Farm 1000   -103.93     51.00         20.6           46.9       black\n",
       "\n",
       "[872 rows x 6 columns]"
      ]
     },
     "execution_count": 10,
     "metadata": {},
     "output_type": "execute_result"
    }
   ],
   "source": [
    "## Your code here down\n",
    "df[df['temperature'] > 20]\n",
    "## Your code here up"
   ]
  },
  {
   "attachments": {},
   "cell_type": "markdown",
   "metadata": {},
   "source": [
    "2. Sort the DataFrame by precipitation in descending order."
   ]
  },
  {
   "cell_type": "code",
   "execution_count": 11,
   "metadata": {},
   "outputs": [
    {
     "data": {
      "text/html": [
       "<div>\n",
       "<style scoped>\n",
       "    .dataframe tbody tr th:only-of-type {\n",
       "        vertical-align: middle;\n",
       "    }\n",
       "\n",
       "    .dataframe tbody tr th {\n",
       "        vertical-align: top;\n",
       "    }\n",
       "\n",
       "    .dataframe thead th {\n",
       "        text-align: right;\n",
       "    }\n",
       "</style>\n",
       "<table border=\"1\" class=\"dataframe\">\n",
       "  <thead>\n",
       "    <tr style=\"text-align: right;\">\n",
       "      <th></th>\n",
       "      <th>farm_name</th>\n",
       "      <th>farm_lon</th>\n",
       "      <th>farm_lat</th>\n",
       "      <th>temperature</th>\n",
       "      <th>precipitation</th>\n",
       "      <th>soil_type</th>\n",
       "    </tr>\n",
       "  </thead>\n",
       "  <tbody>\n",
       "    <tr>\n",
       "      <th>637</th>\n",
       "      <td>Farm 638</td>\n",
       "      <td>-103.23</td>\n",
       "      <td>50.44</td>\n",
       "      <td>28.7</td>\n",
       "      <td>90.0</td>\n",
       "      <td>brown</td>\n",
       "    </tr>\n",
       "    <tr>\n",
       "      <th>28</th>\n",
       "      <td>Farm 29</td>\n",
       "      <td>-101.27</td>\n",
       "      <td>51.39</td>\n",
       "      <td>29.4</td>\n",
       "      <td>89.9</td>\n",
       "      <td>None</td>\n",
       "    </tr>\n",
       "    <tr>\n",
       "      <th>783</th>\n",
       "      <td>Farm 784</td>\n",
       "      <td>-101.39</td>\n",
       "      <td>50.05</td>\n",
       "      <td>20.8</td>\n",
       "      <td>89.9</td>\n",
       "      <td>brown</td>\n",
       "    </tr>\n",
       "    <tr>\n",
       "      <th>970</th>\n",
       "      <td>Farm 971</td>\n",
       "      <td>-101.59</td>\n",
       "      <td>51.80</td>\n",
       "      <td>24.9</td>\n",
       "      <td>89.9</td>\n",
       "      <td>brown</td>\n",
       "    </tr>\n",
       "    <tr>\n",
       "      <th>484</th>\n",
       "      <td>Farm 485</td>\n",
       "      <td>-100.26</td>\n",
       "      <td>50.33</td>\n",
       "      <td>18.9</td>\n",
       "      <td>89.9</td>\n",
       "      <td>black</td>\n",
       "    </tr>\n",
       "    <tr>\n",
       "      <th>...</th>\n",
       "      <td>...</td>\n",
       "      <td>...</td>\n",
       "      <td>...</td>\n",
       "      <td>...</td>\n",
       "      <td>...</td>\n",
       "      <td>...</td>\n",
       "    </tr>\n",
       "    <tr>\n",
       "      <th>845</th>\n",
       "      <td>Farm 846</td>\n",
       "      <td>-103.34</td>\n",
       "      <td>51.94</td>\n",
       "      <td>27.9</td>\n",
       "      <td>20.3</td>\n",
       "      <td>black</td>\n",
       "    </tr>\n",
       "    <tr>\n",
       "      <th>963</th>\n",
       "      <td>Farm 964</td>\n",
       "      <td>-102.82</td>\n",
       "      <td>51.22</td>\n",
       "      <td>22.3</td>\n",
       "      <td>20.2</td>\n",
       "      <td>dark brown</td>\n",
       "    </tr>\n",
       "    <tr>\n",
       "      <th>592</th>\n",
       "      <td>Farm 593</td>\n",
       "      <td>-101.02</td>\n",
       "      <td>51.23</td>\n",
       "      <td>24.6</td>\n",
       "      <td>20.2</td>\n",
       "      <td>black</td>\n",
       "    </tr>\n",
       "    <tr>\n",
       "      <th>255</th>\n",
       "      <td>Farm 256</td>\n",
       "      <td>-103.06</td>\n",
       "      <td>50.59</td>\n",
       "      <td>26.7</td>\n",
       "      <td>20.1</td>\n",
       "      <td>brown</td>\n",
       "    </tr>\n",
       "    <tr>\n",
       "      <th>765</th>\n",
       "      <td>Farm 766</td>\n",
       "      <td>-102.44</td>\n",
       "      <td>50.77</td>\n",
       "      <td>23.8</td>\n",
       "      <td>20.0</td>\n",
       "      <td>black</td>\n",
       "    </tr>\n",
       "  </tbody>\n",
       "</table>\n",
       "<p>1000 rows × 6 columns</p>\n",
       "</div>"
      ],
      "text/plain": [
       "    farm_name  farm_lon  farm_lat  temperature  precipitation   soil_type\n",
       "637  Farm 638   -103.23     50.44         28.7           90.0       brown\n",
       "28    Farm 29   -101.27     51.39         29.4           89.9        None\n",
       "783  Farm 784   -101.39     50.05         20.8           89.9       brown\n",
       "970  Farm 971   -101.59     51.80         24.9           89.9       brown\n",
       "484  Farm 485   -100.26     50.33         18.9           89.9       black\n",
       "..        ...       ...       ...          ...            ...         ...\n",
       "845  Farm 846   -103.34     51.94         27.9           20.3       black\n",
       "963  Farm 964   -102.82     51.22         22.3           20.2  dark brown\n",
       "592  Farm 593   -101.02     51.23         24.6           20.2       black\n",
       "255  Farm 256   -103.06     50.59         26.7           20.1       brown\n",
       "765  Farm 766   -102.44     50.77         23.8           20.0       black\n",
       "\n",
       "[1000 rows x 6 columns]"
      ]
     },
     "execution_count": 11,
     "metadata": {},
     "output_type": "execute_result"
    }
   ],
   "source": [
    "## Your code here down\n",
    "\n",
    "df.sort_values(by='precipitation', ascending=False)\n",
    "## Your code here up"
   ]
  },
  {
   "attachments": {},
   "cell_type": "markdown",
   "metadata": {},
   "source": [
    "3. Filter the DataFrame to include only the farms located within latitude (51.15 & 51.00) range."
   ]
  },
  {
   "cell_type": "code",
   "execution_count": 13,
   "metadata": {},
   "outputs": [
    {
     "data": {
      "text/html": [
       "<div>\n",
       "<style scoped>\n",
       "    .dataframe tbody tr th:only-of-type {\n",
       "        vertical-align: middle;\n",
       "    }\n",
       "\n",
       "    .dataframe tbody tr th {\n",
       "        vertical-align: top;\n",
       "    }\n",
       "\n",
       "    .dataframe thead th {\n",
       "        text-align: right;\n",
       "    }\n",
       "</style>\n",
       "<table border=\"1\" class=\"dataframe\">\n",
       "  <thead>\n",
       "    <tr style=\"text-align: right;\">\n",
       "      <th></th>\n",
       "      <th>farm_name</th>\n",
       "      <th>farm_lon</th>\n",
       "      <th>farm_lat</th>\n",
       "      <th>temperature</th>\n",
       "      <th>precipitation</th>\n",
       "      <th>soil_type</th>\n",
       "    </tr>\n",
       "  </thead>\n",
       "  <tbody>\n",
       "    <tr>\n",
       "      <th>42</th>\n",
       "      <td>Farm 43</td>\n",
       "      <td>-102.19</td>\n",
       "      <td>51.12</td>\n",
       "      <td>19.0</td>\n",
       "      <td>40.5</td>\n",
       "      <td>None</td>\n",
       "    </tr>\n",
       "    <tr>\n",
       "      <th>86</th>\n",
       "      <td>Farm 87</td>\n",
       "      <td>-103.30</td>\n",
       "      <td>51.04</td>\n",
       "      <td>28.2</td>\n",
       "      <td>55.6</td>\n",
       "      <td>black</td>\n",
       "    </tr>\n",
       "    <tr>\n",
       "      <th>95</th>\n",
       "      <td>Farm 96</td>\n",
       "      <td>-101.84</td>\n",
       "      <td>51.09</td>\n",
       "      <td>19.4</td>\n",
       "      <td>32.6</td>\n",
       "      <td>dark brown</td>\n",
       "    </tr>\n",
       "    <tr>\n",
       "      <th>146</th>\n",
       "      <td>Farm 147</td>\n",
       "      <td>-102.84</td>\n",
       "      <td>51.10</td>\n",
       "      <td>23.6</td>\n",
       "      <td>73.9</td>\n",
       "      <td>gray</td>\n",
       "    </tr>\n",
       "    <tr>\n",
       "      <th>154</th>\n",
       "      <td>Farm 155</td>\n",
       "      <td>-104.75</td>\n",
       "      <td>51.13</td>\n",
       "      <td>24.9</td>\n",
       "      <td>29.5</td>\n",
       "      <td>dark brown</td>\n",
       "    </tr>\n",
       "    <tr>\n",
       "      <th>...</th>\n",
       "      <td>...</td>\n",
       "      <td>...</td>\n",
       "      <td>...</td>\n",
       "      <td>...</td>\n",
       "      <td>...</td>\n",
       "      <td>...</td>\n",
       "    </tr>\n",
       "    <tr>\n",
       "      <th>905</th>\n",
       "      <td>Farm 906</td>\n",
       "      <td>-101.05</td>\n",
       "      <td>51.01</td>\n",
       "      <td>25.3</td>\n",
       "      <td>56.5</td>\n",
       "      <td>black</td>\n",
       "    </tr>\n",
       "    <tr>\n",
       "      <th>912</th>\n",
       "      <td>Farm 913</td>\n",
       "      <td>-102.06</td>\n",
       "      <td>51.06</td>\n",
       "      <td>19.5</td>\n",
       "      <td>36.9</td>\n",
       "      <td>dark brown</td>\n",
       "    </tr>\n",
       "    <tr>\n",
       "      <th>921</th>\n",
       "      <td>Farm 922</td>\n",
       "      <td>-101.14</td>\n",
       "      <td>51.07</td>\n",
       "      <td>25.3</td>\n",
       "      <td>85.8</td>\n",
       "      <td>brown</td>\n",
       "    </tr>\n",
       "    <tr>\n",
       "      <th>929</th>\n",
       "      <td>Farm 930</td>\n",
       "      <td>-102.54</td>\n",
       "      <td>51.02</td>\n",
       "      <td>18.4</td>\n",
       "      <td>85.8</td>\n",
       "      <td>gray</td>\n",
       "    </tr>\n",
       "    <tr>\n",
       "      <th>940</th>\n",
       "      <td>Farm 941</td>\n",
       "      <td>-103.46</td>\n",
       "      <td>51.04</td>\n",
       "      <td>24.6</td>\n",
       "      <td>49.6</td>\n",
       "      <td>brown</td>\n",
       "    </tr>\n",
       "  </tbody>\n",
       "</table>\n",
       "<p>69 rows × 6 columns</p>\n",
       "</div>"
      ],
      "text/plain": [
       "    farm_name  farm_lon  farm_lat  temperature  precipitation   soil_type\n",
       "42    Farm 43   -102.19     51.12         19.0           40.5        None\n",
       "86    Farm 87   -103.30     51.04         28.2           55.6       black\n",
       "95    Farm 96   -101.84     51.09         19.4           32.6  dark brown\n",
       "146  Farm 147   -102.84     51.10         23.6           73.9        gray\n",
       "154  Farm 155   -104.75     51.13         24.9           29.5  dark brown\n",
       "..        ...       ...       ...          ...            ...         ...\n",
       "905  Farm 906   -101.05     51.01         25.3           56.5       black\n",
       "912  Farm 913   -102.06     51.06         19.5           36.9  dark brown\n",
       "921  Farm 922   -101.14     51.07         25.3           85.8       brown\n",
       "929  Farm 930   -102.54     51.02         18.4           85.8        gray\n",
       "940  Farm 941   -103.46     51.04         24.6           49.6       brown\n",
       "\n",
       "[69 rows x 6 columns]"
      ]
     },
     "execution_count": 13,
     "metadata": {},
     "output_type": "execute_result"
    }
   ],
   "source": [
    "df[(df['farm_lat'] < 51.15) & (df['farm_lat'] > 51.00)]\n"
   ]
  },
  {
   "attachments": {},
   "cell_type": "markdown",
   "metadata": {},
   "source": [
    " 4. Calculate the standard deviation of precipitation for each soil type."
   ]
  },
  {
   "cell_type": "code",
   "execution_count": 14,
   "metadata": {},
   "outputs": [
    {
     "name": "stdout",
     "output_type": "stream",
     "text": [
      "Standard Deviation of Precipitation for Each Soil Type:\n",
      "soil_type\n",
      "black         19.365625\n",
      "brown         21.192012\n",
      "dark brown    21.166587\n",
      "gray          19.031888\n",
      "Name: precipitation, dtype: float64\n"
     ]
    }
   ],
   "source": [
    "## Your code here down\n",
    "# Calculate the standard deviation of precipitation for each soil type\n",
    "std_dev_by_soil_type = df.groupby('soil_type')['precipitation'].std()\n",
    "\n",
    "print(\"Standard Deviation of Precipitation for Each Soil Type:\")\n",
    "print(std_dev_by_soil_type)\n",
    "\n",
    "\n",
    "## Your code here up"
   ]
  },
  {
   "attachments": {},
   "cell_type": "markdown",
   "metadata": {},
   "source": [
    "5. Calculate the cumulative sum of precipitation for each soil type."
   ]
  },
  {
   "cell_type": "code",
   "execution_count": 15,
   "metadata": {},
   "outputs": [
    {
     "name": "stdout",
     "output_type": "stream",
     "text": [
      "     farm_name  farm_lon  farm_lat  temperature  precipitation   soil_type  \\\n",
      "0       Farm 1   -104.48     51.39         30.9           89.6        gray   \n",
      "1       Farm 2   -100.32     51.58         29.8           50.8       black   \n",
      "2       Farm 3   -102.69     51.29         30.1           44.1       brown   \n",
      "3       Farm 4   -103.47     50.63         21.4           60.9       black   \n",
      "4       Farm 5   -103.39     51.63         26.2           84.5  dark brown   \n",
      "..         ...       ...       ...          ...            ...         ...   \n",
      "995   Farm 996   -103.36     50.68         20.4           66.6       black   \n",
      "996   Farm 997   -104.46     50.75         23.1           75.7       brown   \n",
      "997   Farm 998   -100.31     50.60         30.5           62.5        gray   \n",
      "998   Farm 999   -102.87     50.10         26.2           50.2        None   \n",
      "999  Farm 1000   -103.93     51.00         20.6           46.9       black   \n",
      "\n",
      "     cumulative_sum  \n",
      "0              89.6  \n",
      "1              50.8  \n",
      "2              44.1  \n",
      "3             111.7  \n",
      "4              84.5  \n",
      "..              ...  \n",
      "995         10950.0  \n",
      "996         11712.4  \n",
      "997          9196.4  \n",
      "998             NaN  \n",
      "999         10996.9  \n",
      "\n",
      "[1000 rows x 7 columns]\n"
     ]
    }
   ],
   "source": [
    "## Your code here down\n",
    "\n",
    "# Calculate the cumulative sum of precipitation for each soil type\n",
    "cumulative_sum = df.groupby('soil_type')['precipitation'].cumsum()\n",
    "\n",
    "# Add the cumulative sum as a new column in the dataframe\n",
    "df['cumulative_sum'] = cumulative_sum\n",
    "\n",
    "# Print the updated dataframe\n",
    "print(df)\n",
    "\n",
    "## Your code here up"
   ]
  },
  {
   "attachments": {},
   "cell_type": "markdown",
   "metadata": {},
   "source": [
    "6. Determine the top 3 farms with the highest average temperature."
   ]
  },
  {
   "cell_type": "code",
   "execution_count": 16,
   "metadata": {},
   "outputs": [
    {
     "data": {
      "text/html": [
       "<div>\n",
       "<style scoped>\n",
       "    .dataframe tbody tr th:only-of-type {\n",
       "        vertical-align: middle;\n",
       "    }\n",
       "\n",
       "    .dataframe tbody tr th {\n",
       "        vertical-align: top;\n",
       "    }\n",
       "\n",
       "    .dataframe thead th {\n",
       "        text-align: right;\n",
       "    }\n",
       "</style>\n",
       "<table border=\"1\" class=\"dataframe\">\n",
       "  <thead>\n",
       "    <tr style=\"text-align: right;\">\n",
       "      <th></th>\n",
       "      <th>farm_name</th>\n",
       "      <th>temperature</th>\n",
       "    </tr>\n",
       "  </thead>\n",
       "  <tbody>\n",
       "    <tr>\n",
       "      <th>373</th>\n",
       "      <td>Farm 374</td>\n",
       "      <td>33.0</td>\n",
       "    </tr>\n",
       "    <tr>\n",
       "      <th>673</th>\n",
       "      <td>Farm 674</td>\n",
       "      <td>33.0</td>\n",
       "    </tr>\n",
       "    <tr>\n",
       "      <th>728</th>\n",
       "      <td>Farm 729</td>\n",
       "      <td>33.0</td>\n",
       "    </tr>\n",
       "  </tbody>\n",
       "</table>\n",
       "</div>"
      ],
      "text/plain": [
       "    farm_name  temperature\n",
       "373  Farm 374         33.0\n",
       "673  Farm 674         33.0\n",
       "728  Farm 729         33.0"
      ]
     },
     "execution_count": 16,
     "metadata": {},
     "output_type": "execute_result"
    }
   ],
   "source": [
    "## Your code here down\n",
    "top_3_farms = df.nlargest(3, 'temperature')\n",
    "top_3_farms[['farm_name', 'temperature']]\n",
    "\n",
    "\n",
    "## Your code here up"
   ]
  },
  {
   "attachments": {},
   "cell_type": "markdown",
   "metadata": {},
   "source": [
    "7. Find famrs in each soil type that have the highest temperature."
   ]
  },
  {
   "cell_type": "code",
   "execution_count": 17,
   "metadata": {},
   "outputs": [
    {
     "name": "stdout",
     "output_type": "stream",
     "text": [
      "Farms in Each Soil Type with Highest Temperature:\n",
      "      soil_type farm_name  temperature\n",
      "728       black  Farm 729         33.0\n",
      "961       brown  Farm 962         32.9\n",
      "673  dark brown  Farm 674         33.0\n",
      "373        gray  Farm 374         33.0\n"
     ]
    }
   ],
   "source": [
    "## Your code here down\n",
    "\n",
    "# Find the farms in each soil type with the highest temperature\n",
    "max_temp_farms = df.groupby('soil_type')['temperature'].idxmax()\n",
    "farms_with_highest_temp = df.loc[max_temp_farms, ['soil_type', 'farm_name', 'temperature']]\n",
    "\n",
    "print(\"Farms in Each Soil Type with Highest Temperature:\")\n",
    "print(farms_with_highest_temp)\n",
    "\n",
    "## Your code here up"
   ]
  },
  {
   "attachments": {},
   "cell_type": "markdown",
   "metadata": {},
   "source": [
    "8. Create new column 'percentage_tot_prec' and add the percentage contribution of each farm's precipitation (relative to total precipitation) to the column."
   ]
  },
  {
   "cell_type": "code",
   "execution_count": 19,
   "metadata": {},
   "outputs": [
    {
     "data": {
      "text/html": [
       "<div>\n",
       "<style scoped>\n",
       "    .dataframe tbody tr th:only-of-type {\n",
       "        vertical-align: middle;\n",
       "    }\n",
       "\n",
       "    .dataframe tbody tr th {\n",
       "        vertical-align: top;\n",
       "    }\n",
       "\n",
       "    .dataframe thead th {\n",
       "        text-align: right;\n",
       "    }\n",
       "</style>\n",
       "<table border=\"1\" class=\"dataframe\">\n",
       "  <thead>\n",
       "    <tr style=\"text-align: right;\">\n",
       "      <th></th>\n",
       "      <th>farm_name</th>\n",
       "      <th>farm_lon</th>\n",
       "      <th>farm_lat</th>\n",
       "      <th>temperature</th>\n",
       "      <th>precipitation</th>\n",
       "      <th>soil_type</th>\n",
       "      <th>cumulative_sum</th>\n",
       "      <th>percentage_tot_prec</th>\n",
       "    </tr>\n",
       "  </thead>\n",
       "  <tbody>\n",
       "    <tr>\n",
       "      <th>0</th>\n",
       "      <td>Farm 1</td>\n",
       "      <td>-104.48</td>\n",
       "      <td>51.39</td>\n",
       "      <td>30.9</td>\n",
       "      <td>89.6</td>\n",
       "      <td>gray</td>\n",
       "      <td>89.6</td>\n",
       "      <td>0.163063</td>\n",
       "    </tr>\n",
       "    <tr>\n",
       "      <th>1</th>\n",
       "      <td>Farm 2</td>\n",
       "      <td>-100.32</td>\n",
       "      <td>51.58</td>\n",
       "      <td>29.8</td>\n",
       "      <td>50.8</td>\n",
       "      <td>black</td>\n",
       "      <td>50.8</td>\n",
       "      <td>0.092451</td>\n",
       "    </tr>\n",
       "    <tr>\n",
       "      <th>2</th>\n",
       "      <td>Farm 3</td>\n",
       "      <td>-102.69</td>\n",
       "      <td>51.29</td>\n",
       "      <td>30.1</td>\n",
       "      <td>44.1</td>\n",
       "      <td>brown</td>\n",
       "      <td>44.1</td>\n",
       "      <td>0.080258</td>\n",
       "    </tr>\n",
       "    <tr>\n",
       "      <th>3</th>\n",
       "      <td>Farm 4</td>\n",
       "      <td>-103.47</td>\n",
       "      <td>50.63</td>\n",
       "      <td>21.4</td>\n",
       "      <td>60.9</td>\n",
       "      <td>black</td>\n",
       "      <td>111.7</td>\n",
       "      <td>0.110832</td>\n",
       "    </tr>\n",
       "    <tr>\n",
       "      <th>4</th>\n",
       "      <td>Farm 5</td>\n",
       "      <td>-103.39</td>\n",
       "      <td>51.63</td>\n",
       "      <td>26.2</td>\n",
       "      <td>84.5</td>\n",
       "      <td>dark brown</td>\n",
       "      <td>84.5</td>\n",
       "      <td>0.153781</td>\n",
       "    </tr>\n",
       "  </tbody>\n",
       "</table>\n",
       "</div>"
      ],
      "text/plain": [
       "  farm_name  farm_lon  farm_lat  temperature  precipitation   soil_type  \\\n",
       "0    Farm 1   -104.48     51.39         30.9           89.6        gray   \n",
       "1    Farm 2   -100.32     51.58         29.8           50.8       black   \n",
       "2    Farm 3   -102.69     51.29         30.1           44.1       brown   \n",
       "3    Farm 4   -103.47     50.63         21.4           60.9       black   \n",
       "4    Farm 5   -103.39     51.63         26.2           84.5  dark brown   \n",
       "\n",
       "   cumulative_sum  percentage_tot_prec  \n",
       "0            89.6             0.163063  \n",
       "1            50.8             0.092451  \n",
       "2            44.1             0.080258  \n",
       "3           111.7             0.110832  \n",
       "4            84.5             0.153781  "
      ]
     },
     "execution_count": 19,
     "metadata": {},
     "output_type": "execute_result"
    }
   ],
   "source": [
    "## Your code here down\n",
    "# Calculate the total precipitation\n",
    "total_precipitation = df['precipitation'].sum()\n",
    "\n",
    "# Calculate the percentage contribution of each farm's precipitation\n",
    "df['percentage_tot_prec'] = (df['precipitation'] / total_precipitation) * 100\n",
    "df.head()\n",
    "\n",
    "## Your code here up"
   ]
  },
  {
   "attachments": {},
   "cell_type": "markdown",
   "metadata": {},
   "source": [
    "9. Create a new column called \"precipitation_rank\" that ranks the farms based on their precipitation in ascending order, with ties being assigned the same rank."
   ]
  },
  {
   "cell_type": "code",
   "execution_count": 20,
   "metadata": {},
   "outputs": [],
   "source": [
    "## Your code here down\n",
    "\n",
    "df['precipitation_rank'] = df['precipitation'].rank(method='min', ascending=True)\n",
    "\n",
    "## Your code here up"
   ]
  },
  {
   "attachments": {},
   "cell_type": "markdown",
   "metadata": {},
   "source": [
    "10. Normalize the temperature column to a range between 0 and 1 for each farm."
   ]
  },
  {
   "cell_type": "code",
   "execution_count": 21,
   "metadata": {},
   "outputs": [
    {
     "name": "stdout",
     "output_type": "stream",
     "text": [
      "     farm_name  farm_lon  farm_lat  temperature  precipitation   soil_type  \\\n",
      "0       Farm 1   -104.48     51.39         30.9           89.6        gray   \n",
      "1       Farm 2   -100.32     51.58         29.8           50.8       black   \n",
      "2       Farm 3   -102.69     51.29         30.1           44.1       brown   \n",
      "3       Farm 4   -103.47     50.63         21.4           60.9       black   \n",
      "4       Farm 5   -103.39     51.63         26.2           84.5  dark brown   \n",
      "..         ...       ...       ...          ...            ...         ...   \n",
      "995   Farm 996   -103.36     50.68         20.4           66.6       black   \n",
      "996   Farm 997   -104.46     50.75         23.1           75.7       brown   \n",
      "997   Farm 998   -100.31     50.60         30.5           62.5        gray   \n",
      "998   Farm 999   -102.87     50.10         26.2           50.2        None   \n",
      "999  Farm 1000   -103.93     51.00         20.6           46.9       black   \n",
      "\n",
      "     cumulative_sum  percentage_tot_prec  precipitation_rank  \\\n",
      "0              89.6             0.163063               994.0   \n",
      "1              50.8             0.092451               436.0   \n",
      "2              44.1             0.080258               344.0   \n",
      "3             111.7             0.110832               586.0   \n",
      "4              84.5             0.153781               917.0   \n",
      "..              ...                  ...                 ...   \n",
      "995         10950.0             0.121205               669.0   \n",
      "996         11712.4             0.137766               794.0   \n",
      "997          9196.4             0.113744               608.0   \n",
      "998             NaN             0.091359               426.0   \n",
      "999         10996.9             0.085353               381.0   \n",
      "\n",
      "     normalized_temperature  \n",
      "0                  0.860000  \n",
      "1                  0.786667  \n",
      "2                  0.806667  \n",
      "3                  0.226667  \n",
      "4                  0.546667  \n",
      "..                      ...  \n",
      "995                0.160000  \n",
      "996                0.340000  \n",
      "997                0.833333  \n",
      "998                0.546667  \n",
      "999                0.173333  \n",
      "\n",
      "[1000 rows x 10 columns]\n"
     ]
    }
   ],
   "source": [
    "## Your code here down\n",
    "# Calculate the minimum and maximum values of the temperature column\n",
    "min_temp = df['temperature'].min()\n",
    "max_temp = df['temperature'].max()\n",
    "\n",
    "# Normalize the temperature column using Min-Max normalization\n",
    "df['normalized_temperature'] = (df['temperature'] - min_temp) / (max_temp - min_temp)\n",
    "\n",
    "# Print the updated dataframe\n",
    "print(df)\n",
    "\n",
    "\n",
    "## Your code here up"
   ]
  },
  {
   "cell_type": "markdown",
   "metadata": {},
   "source": [
    "## ETL"
   ]
  },
  {
   "cell_type": "markdown",
   "metadata": {},
   "source": [
    "11. Change column types accordingly."
   ]
  },
  {
   "cell_type": "code",
   "execution_count": 22,
   "metadata": {},
   "outputs": [
    {
     "data": {
      "text/plain": [
       "farm_name                  object\n",
       "farm_lon                  float64\n",
       "farm_lat                  float64\n",
       "temperature               float64\n",
       "precipitation             float64\n",
       "soil_type                  object\n",
       "cumulative_sum            float64\n",
       "percentage_tot_prec       float64\n",
       "precipitation_rank        float64\n",
       "normalized_temperature    float64\n",
       "dtype: object"
      ]
     },
     "execution_count": 22,
     "metadata": {},
     "output_type": "execute_result"
    }
   ],
   "source": [
    "## Your code here down\n",
    "\n",
    "df.dtypes\n",
    "## Your code here up"
   ]
  },
  {
   "cell_type": "markdown",
   "metadata": {},
   "source": [
    "## EDA"
   ]
  },
  {
   "cell_type": "markdown",
   "metadata": {},
   "source": [
    "12. Find missing values and give information how would you handle them"
   ]
  },
  {
   "cell_type": "code",
   "execution_count": 23,
   "metadata": {},
   "outputs": [
    {
     "name": "stdout",
     "output_type": "stream",
     "text": [
      "Missing Values:\n",
      "farm_name                   0\n",
      "farm_lon                    0\n",
      "farm_lat                    0\n",
      "temperature                 0\n",
      "precipitation               0\n",
      "soil_type                 214\n",
      "cumulative_sum            214\n",
      "percentage_tot_prec         0\n",
      "precipitation_rank          0\n",
      "normalized_temperature      0\n",
      "dtype: int64\n"
     ]
    }
   ],
   "source": [
    "## Your code here down\n",
    "# Find missing values in the DataFrame\n",
    "missing_values = df.isnull()\n",
    "\n",
    "# Count the number of missing values in each column\n",
    "missing_values_count = missing_values.sum()\n",
    "\n",
    "# Print the number of missing values in each column\n",
    "print(\"Missing Values:\")\n",
    "print(missing_values_count)\n",
    "\n",
    "\n",
    "## Your code here up"
   ]
  },
  {
   "cell_type": "markdown",
   "metadata": {},
   "source": [
    "13. Find outliers if there is any how would you handle them"
   ]
  },
  {
   "cell_type": "code",
   "execution_count": 24,
   "metadata": {},
   "outputs": [
    {
     "name": "stdout",
     "output_type": "stream",
     "text": [
      "Empty DataFrame\n",
      "Columns: [farm_name, farm_lon, farm_lat, temperature, precipitation, soil_type, cumulative_sum, percentage_tot_prec, precipitation_rank, normalized_temperature]\n",
      "Index: []\n"
     ]
    },
    {
     "name": "stderr",
     "output_type": "stream",
     "text": [
      "C:\\Users\\abhi0\\AppData\\Local\\Temp\\ipykernel_30116\\587288525.py:3: FutureWarning: The default value of numeric_only in DataFrame.quantile is deprecated. In a future version, it will default to False. Select only valid columns or specify the value of numeric_only to silence this warning.\n",
      "  Q1 = df.quantile(0.25)\n",
      "C:\\Users\\abhi0\\AppData\\Local\\Temp\\ipykernel_30116\\587288525.py:4: FutureWarning: The default value of numeric_only in DataFrame.quantile is deprecated. In a future version, it will default to False. Select only valid columns or specify the value of numeric_only to silence this warning.\n",
      "  Q3 = df.quantile(0.75)\n",
      "C:\\Users\\abhi0\\AppData\\Local\\Temp\\ipykernel_30116\\587288525.py:11: FutureWarning: Automatic reindexing on DataFrame vs Series comparisons is deprecated and will raise ValueError in a future version. Do `left, right = left.align(right, axis=1, copy=False)` before e.g. `left == right`\n",
      "  outliers = ((df < (Q1 - threshold * IQR)) | (df > (Q3 + threshold * IQR))).any(axis=1)\n"
     ]
    }
   ],
   "source": [
    "## Your code here down\n",
    "# Calculate the IQR for each column\n",
    "Q1 = df.quantile(0.25)\n",
    "Q3 = df.quantile(0.75)\n",
    "IQR = Q3 - Q1\n",
    "\n",
    "# Define the threshold for outliers\n",
    "threshold = 1.5\n",
    "\n",
    "# Identify outliers using the IQR method\n",
    "outliers = ((df < (Q1 - threshold * IQR)) | (df > (Q3 + threshold * IQR))).any(axis=1)\n",
    "\n",
    "# Print the rows containing outliers\n",
    "print(df[outliers])\n",
    "\n",
    "\n",
    "## Your code here up"
   ]
  },
  {
   "cell_type": "markdown",
   "metadata": {},
   "source": [
    "14. Find descriptive statistics for relavant columns and plot them by using bars."
   ]
  },
  {
   "cell_type": "code",
   "execution_count": 25,
   "metadata": {},
   "outputs": [
    {
     "data": {
      "text/plain": [
       "<AxesSubplot:>"
      ]
     },
     "execution_count": 25,
     "metadata": {},
     "output_type": "execute_result"
    },
    {
     "data": {
      "image/png": "[encoded data removed]",
      "text/plain": [
       "<Figure size 432x288 with 1 Axes>"
      ]
     },
     "metadata": {
      "needs_background": "light"
     },
     "output_type": "display_data"
    }
   ],
   "source": [
    "## Your code here down\n",
    "# Find descriptive statistics for relevant columns\n",
    "relevant_columns = ['temperature', 'precipitation']\n",
    "statistics = df[relevant_columns].describe()\n",
    "\n",
    "# Plot the descriptive statistics using bars\n",
    "statistics.plot(kind='bar')\n",
    "\n",
    "\n",
    "\n",
    "## Your code here up"
   ]
  },
  {
   "cell_type": "markdown",
   "metadata": {},
   "source": [
    "15. Plot the distribution of relevant columns."
   ]
  },
  {
   "cell_type": "code",
   "execution_count": 27,
   "metadata": {},
   "outputs": [
    {
     "data": {
      "image/png": "[encoded data removed]",
      "text/plain": [
       "<Figure size 432x288 with 1 Axes>"
      ]
     },
     "metadata": {
      "needs_background": "light"
     },
     "output_type": "display_data"
    }
   ],
   "source": [
    "import seaborn as sns\n",
    "import matplotlib.pyplot as plt\n",
    "\n",
    "# Plot the distribution of relevant columns\n",
    "sns.distplot(df['temperature'], kde=False, label='Temperature')\n",
    "sns.distplot(df['precipitation'], kde=False, label='Precipitation')\n",
    "\n",
    "# Add labels and title to the plot\n",
    "plt.xlabel('Value')\n",
    "plt.ylabel('Frequency')\n",
    "plt.title('Distribution of Temperature and Precipitation')\n",
    "\n",
    "# Add a legend\n",
    "plt.legend()\n",
    "\n",
    "# Show the plot\n",
    "plt.show()\n"
   ]
  },
  {
   "cell_type": "code",
   "execution_count": null,
   "metadata": {},
   "outputs": [],
   "source": []
  }
 ],
 "metadata": {
  "kernelspec": {
   "display_name": "Python 3",
   "language": "python",
   "name": "python3"
  },
  "language_info": {
   "codemirror_mode": {
    "name": "ipython",
    "version": 3
   },
   "file_extension": ".py",
   "mimetype": "text/x-python",
   "name": "python",
   "nbconvert_exporter": "python",
   "pygments_lexer": "ipython3",
   "version": "3.8.8"
  },
  "orig_nbformat": 4
 },
 "nbformat": 4,
 "nbformat_minor": 2
}
